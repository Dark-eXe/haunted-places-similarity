{
 "cells": [
  {
   "cell_type": "markdown",
   "id": "ef1dee41-00ac-4f1a-923f-968ccd00bed2",
   "metadata": {},
   "source": [
    "# Jaccard Similarity"
   ]
  },
  {
   "cell_type": "code",
   "execution_count": 1,
   "id": "3309dcce-ff05-499a-b5f6-2fdcc51ed726",
   "metadata": {},
   "outputs": [],
   "source": [
    "import pandas as pd"
   ]
  },
  {
   "cell_type": "code",
   "execution_count": 2,
   "id": "70d2d1a4-a312-406c-b000-51da6dcd96b0",
   "metadata": {},
   "outputs": [],
   "source": [
    "import os\n",
    "import sys\n",
    "module_path = os.path.abspath(os.path.join('..'))\n",
    "if module_path not in sys.path:\n",
    "    sys.path.append(module_path)\n",
    "\n",
    "from tikasimilarity.distance import jaccard_similarity"
   ]
  },
  {
   "cell_type": "code",
   "execution_count": 3,
   "id": "6b3aa24e-f6d8-4cfd-8a7c-1ef998322f8f",
   "metadata": {},
   "outputs": [
    {
     "name": "stdout",
     "output_type": "stream",
     "text": [
      "Help on module tikasimilarity.distance.jaccard_similarity in tikasimilarity.distance:\n",
      "\n",
      "NAME\n",
      "    tikasimilarity.distance.jaccard_similarity\n",
      "\n",
      "DESCRIPTION\n",
      "    # Licensed to the Apache Software Foundation (ASF) under one or more\n",
      "    # contributor license agreements.  See the NOTICE file distributed with\n",
      "    # this work for additional information regarding copyright ownership.\n",
      "    # The ASF licenses this file to You under the Apache License, Version 2.0\n",
      "    # (the \"License\"); you may not use this file except in compliance with\n",
      "    # the License.  You may obtain a copy of the License at\n",
      "    #\n",
      "    #    http://www.apache.org/licenses/LICENSE-2.0\n",
      "    #\n",
      "    # Unless required by applicable law or agreed to in writing, software\n",
      "    # distributed under the License is distributed on an \"AS IS\" BASIS,\n",
      "    # WITHOUT WARRANTIES OR CONDITIONS OF ANY KIND, either express or implied.\n",
      "    # See the License for the specific language governing permissions and\n",
      "    # limitations under the License.\n",
      "    #\n",
      "    #\n",
      "\n",
      "FUNCTIONS\n",
      "    computeScores(inputDir, outCSV, acceptTypes)\n",
      "    \n",
      "    filterFiles(inputDir, acceptTypes)\n",
      "    \n",
      "    reduce(...)\n",
      "        reduce(function, sequence[, initial]) -> value\n",
      "        \n",
      "        Apply a function of two arguments cumulatively to the items of a sequence,\n",
      "        from left to right, so as to reduce the sequence to a single value.\n",
      "        For example, reduce(lambda x, y: x+y, [1, 2, 3, 4, 5]) calculates\n",
      "        ((((1+2)+3)+4)+5).  If initial is present, it is placed before the items\n",
      "        of the sequence in the calculation, and serves as a default when the\n",
      "        sequence is empty.\n",
      "\n",
      "FILE\n",
      "    /Users/andrewturangan/Local/DSCI 550/HW1/haunted-places-similarity/tikasimilarity/distance/jaccard_similarity.py\n",
      "\n",
      "\n"
     ]
    }
   ],
   "source": [
    "help(jaccard_similarity)"
   ]
  },
  {
   "cell_type": "markdown",
   "id": "84824656-e608-4816-8c5c-5d5ef1515c0d",
   "metadata": {},
   "source": [
    "## Attempt"
   ]
  },
  {
   "cell_type": "code",
   "execution_count": 9,
   "id": "6cc54f8e-11d9-472d-a8a8-e0f4ff0dfa08",
   "metadata": {},
   "outputs": [
    {
     "data": {
      "text/plain": [
       "True"
      ]
     },
     "execution_count": 9,
     "metadata": {},
     "output_type": "execute_result"
    }
   ],
   "source": [
    "inputDir = os.path.join('..', 'data')\n",
    "os.path.exists(inputDir)"
   ]
  },
  {
   "cell_type": "code",
   "execution_count": 10,
   "id": "2f701b38-0110-4f61-8289-155b3c719d64",
   "metadata": {},
   "outputs": [],
   "source": [
    "outCSV = os.path.join('..', 'results', 'jaccard_results.csv')"
   ]
  },
  {
   "cell_type": "code",
   "execution_count": 11,
   "id": "289615d5-5352-4f93-a725-eb678539f1ae",
   "metadata": {},
   "outputs": [
    {
     "name": "stdout",
     "output_type": "stream",
     "text": [
      "Accepting all MIME Types.....\n"
     ]
    }
   ],
   "source": [
    "jaccard_similarity.computeScores(inputDir=inputDir, outCSV=outCSV, acceptTypes=None)"
   ]
  }
 ],
 "metadata": {
  "kernelspec": {
   "display_name": "Python 3 (ipykernel)",
   "language": "python",
   "name": "python3"
  },
  "language_info": {
   "codemirror_mode": {
    "name": "ipython",
    "version": 3
   },
   "file_extension": ".py",
   "mimetype": "text/x-python",
   "name": "python",
   "nbconvert_exporter": "python",
   "pygments_lexer": "ipython3",
   "version": "3.9.21"
  }
 },
 "nbformat": 4,
 "nbformat_minor": 5
}
