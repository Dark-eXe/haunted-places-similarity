{
 "cells": [
  {
   "cell_type": "markdown",
   "id": "bde5f727-5da4-4f28-a474-bd71d2e24cb8",
   "metadata": {},
   "source": [
    "# Compute Clusters"
   ]
  },
  {
   "cell_type": "code",
   "execution_count": 1,
   "id": "ee099ece-788b-446a-8b11-a6be66cd04b5",
   "metadata": {},
   "outputs": [],
   "source": [
    "import pandas as pd"
   ]
  },
  {
   "cell_type": "code",
   "execution_count": 2,
   "id": "d5ca23ab-11a4-44fc-a9ae-3dc795c00884",
   "metadata": {},
   "outputs": [],
   "source": [
    "import os\n",
    "import sys\n",
    "module_path = os.path.abspath(os.path.join('..'))\n",
    "if module_path not in sys.path:\n",
    "    sys.path.append(module_path)\n",
    "\n",
    "from tikasimilarity.cluster.edit_cosine_circle_packing import createCluster as cluster0\n",
    "from tikasimilarity.cluster.edit_cosine_cluster import createCluster as cluster1\n",
    "from tikasimilarity.cluster.generateLevelCluster import main as levelcluster"
   ]
  },
  {
   "cell_type": "code",
   "execution_count": 3,
   "id": "d51038cb-6350-4a78-aa87-256e6d6c2ec8",
   "metadata": {},
   "outputs": [],
   "source": [
    "metric = \"edit\" # jaccard | cos | edit\n",
    "partition = 0"
   ]
  },
  {
   "cell_type": "markdown",
   "id": "d7db138a-0beb-4bc4-9958-06be5abccbca",
   "metadata": {},
   "source": [
    "Pass argument to --cluster as one of the following<br>\n",
    "0 for clustering based on x-coordinate, <br>\n",
    "1 for clustering based on y-coordinate, <br>\n",
    "2 for clustering based on similarity score<br>"
   ]
  },
  {
   "cell_type": "code",
   "execution_count": 4,
   "id": "863b32fa-1f74-4fad-9242-696c32e2da1c",
   "metadata": {},
   "outputs": [],
   "source": [
    "argNum = 2 # based on similarity score"
   ]
  },
  {
   "cell_type": "code",
   "execution_count": 5,
   "id": "67e99587-9879-4ef6-986b-86f9190a9512",
   "metadata": {},
   "outputs": [],
   "source": [
    "inputCSV = os.path.join(\"..\", \"results\", \"similarity\", f\"dir_{partition}\", f\"{metric}_sim.csv\")\n",
    "outputPrefix = os.path.join(\"..\", \"results\", \"clusters\", f\"dir_{partition}\", f\"{metric}\")"
   ]
  },
  {
   "cell_type": "markdown",
   "id": "fe7497a9-ed5a-4fea-b2f6-83f0b65a2c12",
   "metadata": {},
   "source": [
    "## Attempt"
   ]
  },
  {
   "cell_type": "code",
   "execution_count": 6,
   "id": "aed2da8c-3de9-422a-96f3-75d86957a89b",
   "metadata": {},
   "outputs": [
    {
     "name": "stdout",
     "output_type": "stream",
     "text": [
      "see ../results/clusters/dir_0/edit/circle.json\n"
     ]
    }
   ],
   "source": [
    "outputPath = os.path.join(outputPrefix, \"circle.json\")\n",
    "try:\n",
    "    cluster0(inputCSV=inputCSV, argNum=argNum, outputPath=outputPath)\n",
    "except FileNotFoundError:\n",
    "    os.makedirs(outputPrefix, exist_ok=True)\n",
    "    cluster0(inputCSV=inputCSV, argNum=argNum, outputPath=outputPath)\n",
    "print(f\"see {outputPath}\")"
   ]
  },
  {
   "cell_type": "code",
   "execution_count": 7,
   "id": "d8b3539c-cbf3-443d-9d5e-ccf9ab077587",
   "metadata": {},
   "outputs": [
    {
     "name": "stdout",
     "output_type": "stream",
     "text": [
      "see ../results/clusters/dir_0/edit/clusters.json\n"
     ]
    }
   ],
   "source": [
    "outputPath = os.path.join(outputPrefix, \"clusters.json\")\n",
    "cluster1(inputCSV=inputCSV, argNum=argNum, outputPath=outputPath)\n",
    "print(f\"see {outputPath}\")"
   ]
  },
  {
   "cell_type": "code",
   "execution_count": 8,
   "id": "0359b6ac-fb37-426b-99cb-ef822cc18a21",
   "metadata": {},
   "outputs": [
    {
     "name": "stdout",
     "output_type": "stream",
     "text": [
      "see ../results/clusters/dir_0/edit/levelCluster.json\n"
     ]
    }
   ],
   "source": [
    "clustersPath = outputPath\n",
    "outputPath = os.path.join(outputPrefix, \"levelCluster.json\")\n",
    "levelcluster(clustersPath=clustersPath, outputPath=outputPath)\n",
    "print(f'see {outputPath}')"
   ]
  }
 ],
 "metadata": {
  "kernelspec": {
   "display_name": "Python 3 (ipykernel)",
   "language": "python",
   "name": "python3"
  },
  "language_info": {
   "codemirror_mode": {
    "name": "ipython",
    "version": 3
   },
   "file_extension": ".py",
   "mimetype": "text/x-python",
   "name": "python",
   "nbconvert_exporter": "python",
   "pygments_lexer": "ipython3",
   "version": "3.9.21"
  }
 },
 "nbformat": 4,
 "nbformat_minor": 5
}
