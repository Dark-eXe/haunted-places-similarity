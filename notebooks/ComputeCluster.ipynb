{
 "cells": [
  {
   "cell_type": "markdown",
   "id": "bde5f727-5da4-4f28-a474-bd71d2e24cb8",
   "metadata": {},
   "source": [
    "# Compute Clusters"
   ]
  },
  {
   "cell_type": "code",
   "execution_count": 1,
   "id": "ee099ece-788b-446a-8b11-a6be66cd04b5",
   "metadata": {},
   "outputs": [],
   "source": [
    "import pandas as pd"
   ]
  },
  {
   "cell_type": "code",
   "execution_count": 2,
   "id": "d5ca23ab-11a4-44fc-a9ae-3dc795c00884",
   "metadata": {},
   "outputs": [],
   "source": [
    "import os\n",
    "import sys\n",
    "module_path = os.path.abspath(os.path.join('..'))\n",
    "if module_path not in sys.path:\n",
    "    sys.path.append(module_path)\n",
    "\n",
    "from tikasimilarity.cluster.edit_cosine_circle_packing import createCluster"
   ]
  },
  {
   "cell_type": "markdown",
   "id": "fe7497a9-ed5a-4fea-b2f6-83f0b65a2c12",
   "metadata": {},
   "source": [
    "## Attempt"
   ]
  },
  {
   "cell_type": "code",
   "execution_count": 5,
   "id": "67e99587-9879-4ef6-986b-86f9190a9512",
   "metadata": {},
   "outputs": [],
   "source": [
    "metric = \"jaccard\"\n",
    "partition = 0\n",
    "inputCSV = os.path.join(\"..\", \"results\", f\"{metric}_sim_{str(partition)}.csv\")"
   ]
  },
  {
   "cell_type": "markdown",
   "id": "d7db138a-0beb-4bc4-9958-06be5abccbca",
   "metadata": {},
   "source": [
    "Pass argument to --cluster as one of the following<br>\n",
    "0 for clustering based on x-coordinate, <br>\n",
    "1 for clustering based on y-coordinate, <br>\n",
    "2 for clustering based on similarity score<br>"
   ]
  },
  {
   "cell_type": "code",
   "execution_count": 6,
   "id": "863b32fa-1f74-4fad-9242-696c32e2da1c",
   "metadata": {},
   "outputs": [],
   "source": [
    "argNum = 2 # based on similarity score"
   ]
  },
  {
   "cell_type": "code",
   "execution_count": 7,
   "id": "aed2da8c-3de9-422a-96f3-75d86957a89b",
   "metadata": {},
   "outputs": [],
   "source": [
    "createCluster(inputCSV=inputCSV, argNum=argNum)"
   ]
  },
  {
   "cell_type": "code",
   "execution_count": null,
   "id": "f839e64c-28bc-477f-abd3-70efda851d5a",
   "metadata": {},
   "outputs": [],
   "source": []
  }
 ],
 "metadata": {
  "kernelspec": {
   "display_name": "Python 3 (ipykernel)",
   "language": "python",
   "name": "python3"
  },
  "language_info": {
   "codemirror_mode": {
    "name": "ipython",
    "version": 3
   },
   "file_extension": ".py",
   "mimetype": "text/x-python",
   "name": "python",
   "nbconvert_exporter": "python",
   "pygments_lexer": "ipython3",
   "version": "3.9.21"
  }
 },
 "nbformat": 4,
 "nbformat_minor": 5
}
