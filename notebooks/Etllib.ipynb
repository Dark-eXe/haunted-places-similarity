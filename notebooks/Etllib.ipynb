{
 "cells": [
  {
   "cell_type": "markdown",
   "id": "6d7a79a7-f880-4d59-a17d-ff46a9c1834e",
   "metadata": {},
   "source": [
    "## ETLLIB"
   ]
  },
  {
   "cell_type": "code",
   "execution_count": 1,
   "id": "baae887b-b282-4108-ab90-e6c5cdfb9f9b",
   "metadata": {},
   "outputs": [],
   "source": [
    "import os\n",
    "import sys\n",
    "module_path = os.path.abspath(os.path.join('..'))\n",
    "if module_path not in sys.path:\n",
    "    sys.path.append(module_path)"
   ]
  },
  {
   "cell_type": "code",
   "execution_count": 2,
   "id": "29b53b4b-9d63-4e0d-97f1-d89ba4c149fc",
   "metadata": {},
   "outputs": [],
   "source": [
    "from etllib import etl"
   ]
  },
  {
   "cell_type": "code",
   "execution_count": 3,
   "id": "093a66b4-9b51-4104-9860-eab7642db377",
   "metadata": {},
   "outputs": [
    {
     "name": "stdout",
     "output_type": "stream",
     "text": [
      "Help on package etllib.etl in etllib:\n",
      "\n",
      "NAME\n",
      "    etllib.etl\n",
      "\n",
      "DESCRIPTION\n",
      "    # encoding: utf-8\n",
      "    # Licensed to the Apache Software Foundation (ASF) under one or more\n",
      "    # contributor license agreements.  See the NOTICE file distributed with\n",
      "    # this work for additional information regarding copyright ownership.\n",
      "    # The ASF licenses this file to You under the Apache License, Version 2.0\n",
      "    # (the \"License\"); you may not use this file except in compliance with\n",
      "    # the License.  You may obtain a copy of the License at\n",
      "    #\n",
      "    #     http://www.apache.org/licenses/LICENSE-2.0\n",
      "    #\n",
      "    # Unless required by applicable law or agreed to in writing, software\n",
      "    # distributed under the License is distributed on an \"AS IS\" BASIS,\n",
      "    # WITHOUT WARRANTIES OR CONDITIONS OF ANY KIND, either express or implied.\n",
      "    # See the License for the specific language governing permissions and\n",
      "    # limitations under the License.\n",
      "\n",
      "PACKAGE CONTENTS\n",
      "    etllib\n",
      "    poster\n",
      "    repackage\n",
      "    repackageandpost\n",
      "    similarity\n",
      "    translatejson\n",
      "    tsvtojson\n",
      "\n",
      "DATA\n",
      "    __warningregistry__ = {'version': 14}\n",
      "\n",
      "FILE\n",
      "    /Users/andrewturangan/Local/DSCI 550/HW1/haunted-places-similarity/etllib/etl/__init__.py\n",
      "\n",
      "\n"
     ]
    }
   ],
   "source": [
    "help(etl)"
   ]
  }
 ],
 "metadata": {
  "kernelspec": {
   "display_name": "Python 3 (ipykernel)",
   "language": "python",
   "name": "python3"
  },
  "language_info": {
   "codemirror_mode": {
    "name": "ipython",
    "version": 3
   },
   "file_extension": ".py",
   "mimetype": "text/x-python",
   "name": "python",
   "nbconvert_exporter": "python",
   "pygments_lexer": "ipython3",
   "version": "3.9.21"
  }
 },
 "nbformat": 4,
 "nbformat_minor": 5
}
