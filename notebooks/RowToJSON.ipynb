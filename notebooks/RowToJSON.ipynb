{
 "cells": [
  {
   "cell_type": "markdown",
   "id": "e2b2cd10-bc45-4ca8-9720-2273e2428914",
   "metadata": {},
   "source": [
    "# Convert Rows to JSON"
   ]
  },
  {
   "cell_type": "code",
   "execution_count": 1,
   "id": "c614a18b-a4a5-4d9a-85c8-842deb55a66a",
   "metadata": {},
   "outputs": [],
   "source": [
    "import pandas as pd\n",
    "import json"
   ]
  },
  {
   "cell_type": "code",
   "execution_count": 2,
   "id": "3d00a652-9627-466a-9155-1ea161d4c3a9",
   "metadata": {},
   "outputs": [],
   "source": [
    "import os\n",
    "import sys\n",
    "module_path = os.path.abspath(os.path.join('..'))\n",
    "if module_path not in sys.path:\n",
    "    sys.path.append(module_path)"
   ]
  },
  {
   "cell_type": "code",
   "execution_count": 3,
   "id": "eb69549c-b400-49c2-8a87-072a6cc24210",
   "metadata": {},
   "outputs": [],
   "source": [
    "filename = os.path.join(\"..\", \"data\", \"my_df.csv\")"
   ]
  },
  {
   "cell_type": "code",
   "execution_count": 4,
   "id": "220322b6-e37b-4d87-9a79-71e766e68d7f",
   "metadata": {},
   "outputs": [],
   "source": [
    "for i in range(200):\n",
    "    directory_path = os.path.join(\"..\", \"data\", \"JSON\", f\"dir_{i}\")\n",
    "    os.makedirs(directory_path, exist_ok=True)"
   ]
  },
  {
   "cell_type": "code",
   "execution_count": 5,
   "id": "75987c1d-015b-4d2c-adf2-913688c8f2e4",
   "metadata": {},
   "outputs": [],
   "source": [
    "def json_path(i):\n",
    "    partition = i % 200\n",
    "    return os.path.join(\"..\", \"data\", \"JSON\", f\"dir_{str(partition)}\", f\"{i}.json\")"
   ]
  },
  {
   "cell_type": "markdown",
   "id": "cd8664f8-1a0c-4dd6-91ea-382536355fd3",
   "metadata": {},
   "source": [
    "## Attempt"
   ]
  },
  {
   "cell_type": "code",
   "execution_count": 6,
   "id": "b4575757-19c1-41b9-a02d-087061e2a1a6",
   "metadata": {},
   "outputs": [],
   "source": [
    "df = pd.read_csv(filename)"
   ]
  },
  {
   "cell_type": "code",
   "execution_count": 7,
   "id": "3d4a70ae-9454-49f9-998d-9ef464f1b8b8",
   "metadata": {},
   "outputs": [
    {
     "name": "stdout",
     "output_type": "stream",
     "text": [
      "All JSONs completed in ../data/JSON/\n"
     ]
    }
   ],
   "source": [
    "for index, row in df.iterrows():\n",
    "    # Convert row to JSON\n",
    "    row.to_json(json_path(index))\n",
    "print(\"All JSONs completed in ../data/JSON/\")"
   ]
  }
 ],
 "metadata": {
  "kernelspec": {
   "display_name": "Python 3 (ipykernel)",
   "language": "python",
   "name": "python3"
  },
  "language_info": {
   "codemirror_mode": {
    "name": "ipython",
    "version": 3
   },
   "file_extension": ".py",
   "mimetype": "text/x-python",
   "name": "python",
   "nbconvert_exporter": "python",
   "pygments_lexer": "ipython3",
   "version": "3.9.21"
  }
 },
 "nbformat": 4,
 "nbformat_minor": 5
}
