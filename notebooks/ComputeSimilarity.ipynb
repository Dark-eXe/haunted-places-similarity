{
 "cells": [
  {
   "cell_type": "markdown",
   "id": "0ea7809a-a15a-4319-af60-2bc6b3a0e568",
   "metadata": {},
   "source": [
    "# Compute Similarity"
   ]
  },
  {
   "cell_type": "code",
   "execution_count": 1,
   "id": "a46cf15e-9f71-433f-ad6f-cf5e381ac6a7",
   "metadata": {},
   "outputs": [],
   "source": [
    "import pandas as pd"
   ]
  },
  {
   "cell_type": "code",
   "execution_count": 2,
   "id": "5fc5a2fb-0e23-487a-828c-d12615e3d8d6",
   "metadata": {},
   "outputs": [],
   "source": [
    "import os\n",
    "import sys\n",
    "module_path = os.path.abspath(os.path.join('..'))\n",
    "if module_path not in sys.path:\n",
    "    sys.path.append(module_path)\n",
    "\n",
    "from tikasimilarity.distance.jaccard_similarity import computeScores as jaccard_sim\n",
    "from tikasimilarity.distance.cosine_similarity import computeScores as cosine_sim\n",
    "from tikasimilarity.distance.edit_similarity import computeScores as edit_sim"
   ]
  },
  {
   "cell_type": "code",
   "execution_count": 3,
   "id": "90018ff2-ba63-4d89-bef6-131204393dad",
   "metadata": {},
   "outputs": [],
   "source": [
    "partition = 0\n",
    "inputDir = os.path.join(\"..\", \"data\", \"JSON\", f\"dir_{partition}\")"
   ]
  },
  {
   "cell_type": "markdown",
   "id": "6a0a2485-f04f-4926-9d03-09898a7e58d3",
   "metadata": {},
   "source": [
    "## Jaccard\n",
    "Generates results/jaccard_sim_{partition}.csv"
   ]
  },
  {
   "cell_type": "code",
   "execution_count": 4,
   "id": "55f6fbcd-5c80-4762-a0ed-425a2a9cb66f",
   "metadata": {},
   "outputs": [],
   "source": [
    "outCSV = os.path.join(\"..\", \"results\", f\"jaccard_sim_{partition}.csv\")"
   ]
  },
  {
   "cell_type": "code",
   "execution_count": 5,
   "id": "3b8a643b-8583-42c6-a477-21361c7e5eae",
   "metadata": {},
   "outputs": [
    {
     "name": "stdout",
     "output_type": "stream",
     "text": [
      "Accepting all MIME Types.....\n"
     ]
    }
   ],
   "source": [
    "jaccard_sim(inputDir=inputDir, outCSV=outCSV, acceptTypes=None)"
   ]
  },
  {
   "cell_type": "markdown",
   "id": "e0374518-262c-4924-8d0b-747215d7e56d",
   "metadata": {},
   "source": [
    "## Cosine\n",
    "Generates results/cos_sim_{partition}.csv"
   ]
  },
  {
   "cell_type": "code",
   "execution_count": 6,
   "id": "ded61224-7a46-4505-9e59-ed11461a42d5",
   "metadata": {},
   "outputs": [],
   "source": [
    "outCSV = os.path.join(\"..\", \"results\", f\"cos_sim_{partition}.csv\")"
   ]
  },
  {
   "cell_type": "code",
   "execution_count": 7,
   "id": "bbfa3690-b6aa-49e2-b9bb-77eaecfb426a",
   "metadata": {},
   "outputs": [
    {
     "name": "stdout",
     "output_type": "stream",
     "text": [
      "Accepting all MIME Types.....\n"
     ]
    }
   ],
   "source": [
    "cosine_sim(inputDir=inputDir, outCSV=outCSV, acceptTypes=None)"
   ]
  },
  {
   "cell_type": "markdown",
   "id": "b172a2ca-c1ca-42c3-ab08-a22d35ea63c5",
   "metadata": {},
   "source": [
    "## Edit Sim\n",
    "Generates results/edit_sim_{partition}.csv"
   ]
  },
  {
   "cell_type": "code",
   "execution_count": 8,
   "id": "e50e42f9-1512-4adf-b539-d0de9dc97b46",
   "metadata": {},
   "outputs": [],
   "source": [
    "outCSV = os.path.join(\"..\", \"results\", f\"edit_sim_{partition}.csv\")"
   ]
  },
  {
   "cell_type": "code",
   "execution_count": 10,
   "id": "609a500e-9a74-48ce-89d0-22376e1b1b8d",
   "metadata": {},
   "outputs": [
    {
     "name": "stdout",
     "output_type": "stream",
     "text": [
      "Accepting all MIME Types.....\n"
     ]
    }
   ],
   "source": [
    "edit_sim(inputDir=inputDir, outCSV=outCSV, acceptTypes=None, allKeys=False)"
   ]
  }
 ],
 "metadata": {
  "kernelspec": {
   "display_name": "Python 3 (ipykernel)",
   "language": "python",
   "name": "python3"
  },
  "language_info": {
   "codemirror_mode": {
    "name": "ipython",
    "version": 3
   },
   "file_extension": ".py",
   "mimetype": "text/x-python",
   "name": "python",
   "nbconvert_exporter": "python",
   "pygments_lexer": "ipython3",
   "version": "3.9.21"
  }
 },
 "nbformat": 4,
 "nbformat_minor": 5
}
