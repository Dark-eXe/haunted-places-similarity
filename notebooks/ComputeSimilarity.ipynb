{
 "cells": [
  {
   "cell_type": "markdown",
   "id": "0ea7809a-a15a-4319-af60-2bc6b3a0e568",
   "metadata": {},
   "source": [
    "# Compute Similarity"
   ]
  },
  {
   "cell_type": "code",
   "execution_count": 1,
   "id": "a46cf15e-9f71-433f-ad6f-cf5e381ac6a7",
   "metadata": {},
   "outputs": [],
   "source": [
    "import pandas as pd"
   ]
  },
  {
   "cell_type": "code",
   "execution_count": 2,
   "id": "5fc5a2fb-0e23-487a-828c-d12615e3d8d6",
   "metadata": {},
   "outputs": [],
   "source": [
    "import os\n",
    "import sys\n",
    "module_path = os.path.abspath(os.path.join('..'))\n",
    "if module_path not in sys.path:\n",
    "    sys.path.append(module_path)\n",
    "\n",
    "from tikasimilarity.distance.jaccard_similarity import computeScores as jaccard_sim\n",
    "from tikasimilarity.distance.cosine_similarity import computeScores as cosine_sim\n",
    "from tikasimilarity.distance.edit_similarity import computeScores as edit_sim"
   ]
  },
  {
   "cell_type": "code",
   "execution_count": null,
   "id": "15fe8702-85fa-42c7-879c-f1a40b231834",
   "metadata": {},
   "outputs": [],
   "source": []
  }
 ],
 "metadata": {
  "kernelspec": {
   "display_name": "Python 3 (ipykernel)",
   "language": "python",
   "name": "python3"
  },
  "language_info": {
   "codemirror_mode": {
    "name": "ipython",
    "version": 3
   },
   "file_extension": ".py",
   "mimetype": "text/x-python",
   "name": "python",
   "nbconvert_exporter": "python",
   "pygments_lexer": "ipython3",
   "version": "3.9.21"
  }
 },
 "nbformat": 4,
 "nbformat_minor": 5
}
