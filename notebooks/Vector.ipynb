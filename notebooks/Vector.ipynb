{
 "cells": [
  {
   "cell_type": "markdown",
   "id": "9042148c-4774-4b71-85da-e7b71a9e4d6c",
   "metadata": {},
   "source": [
    "# Vector"
   ]
  },
  {
   "cell_type": "code",
   "execution_count": 1,
   "id": "88c25b9c-b8b7-4f8a-8ebb-87209f622037",
   "metadata": {},
   "outputs": [],
   "source": [
    "import pandas as pd\n",
    "import numbers"
   ]
  },
  {
   "cell_type": "code",
   "execution_count": 2,
   "id": "16bc6e02-b0a7-48ad-93e0-3a6296b04cb2",
   "metadata": {},
   "outputs": [],
   "source": [
    "import os\n",
    "import sys\n",
    "module_path = os.path.abspath(os.path.join('..'))\n",
    "if module_path not in sys.path:\n",
    "    sys.path.append(module_path)\n",
    "\n",
    "from tikasimilarity.distance.vector import Vector"
   ]
  },
  {
   "cell_type": "code",
   "execution_count": 3,
   "id": "8ccc3055-1159-4ebb-b885-f446ed7e2d8d",
   "metadata": {},
   "outputs": [
    {
     "data": {
      "text/plain": [
       "<tikasimilarity.distance.vector.Vector at 0x136a3cfa0>"
      ]
     },
     "execution_count": 3,
     "metadata": {},
     "output_type": "execute_result"
    }
   ],
   "source": [
    "Vector()"
   ]
  },
  {
   "cell_type": "markdown",
   "id": "5f7ab632-ad34-45cb-88f4-b33cf208a92b",
   "metadata": {},
   "source": [
    "## Attempt"
   ]
  },
  {
   "cell_type": "code",
   "execution_count": 4,
   "id": "04ffb869-39f1-437d-b42a-dbdef230c360",
   "metadata": {},
   "outputs": [
    {
     "data": {
      "text/plain": [
       "True"
      ]
     },
     "execution_count": 4,
     "metadata": {},
     "output_type": "execute_result"
    }
   ],
   "source": [
    "filename = os.path.join(\"..\", \"data\", \"my_df.csv\")\n",
    "os.path.exists(filename)"
   ]
  },
  {
   "cell_type": "code",
   "execution_count": 5,
   "id": "2bb8daba-177d-4d82-bc3a-2e9069187620",
   "metadata": {},
   "outputs": [],
   "source": [
    "df_csv = os.path.join(filename)\n",
    "df_csv = pd.read_csv(df_csv)"
   ]
  },
  {
   "cell_type": "code",
   "execution_count": 6,
   "id": "55e6e2d3-35ff-4877-bcd7-4dd0a2de3a24",
   "metadata": {},
   "outputs": [],
   "source": [
    "sample = df_csv.iloc[0]\n",
    "cols = list(df_csv.columns)"
   ]
  },
  {
   "cell_type": "code",
   "execution_count": 7,
   "id": "5081fa28-0319-477d-8746-a5c65fd9efa5",
   "metadata": {},
   "outputs": [
    {
     "data": {
      "text/plain": [
       "{'city': 'string',\n",
       " 'country': 'string',\n",
       " 'description': 'string',\n",
       " 'location': 'string',\n",
       " 'state': 'string',\n",
       " 'state_abbrev': 'string',\n",
       " 'longitude': 'double',\n",
       " 'latitude': 'double',\n",
       " 'city_longitude': 'double',\n",
       " 'city_latitude': 'double',\n",
       " 'clean_description': 'string',\n",
       " 'clean_spelling': 'string',\n",
       " 'tokenized': 'string',\n",
       " 'pos_tokenized': 'string',\n",
       " 'filtered_tokenized': 'string',\n",
       " 'lemma_filtered_tokenized': 'string',\n",
       " 'lemma_pos_tokenized': 'string',\n",
       " 'Event': 'string',\n",
       " 'apparition_types': 'string',\n",
       " 'apparition_descriptors': 'string',\n",
       " 'apparition_gender': 'string',\n",
       " 'apparition_age': 'string',\n",
       " 'apparition_types_str': 'string',\n",
       " 'apparition_descriptors_str': 'string',\n",
       " 'apparition_gender_str': 'string',\n",
       " 'apparition_age_str': 'string',\n",
       " 'unique_apparition_mentions': 'double',\n",
       " 'adjectives': 'string',\n",
       " 'unique_app_descriptor_mentions': 'double',\n",
       " \"death_rate_Alzheimer's disease\": 'double',\n",
       " 'death_rate_Cancer': 'double',\n",
       " 'death_rate_Heart disease': 'double',\n",
       " 'death_rate_Unintentional injuries': 'double',\n",
       " 'death_rate_All causes': 'double',\n",
       " 'death_rate_Influenza and pneumonia': 'double',\n",
       " 'death_rate_Suicide': 'double',\n",
       " 'death_rate_Kidney disease': 'double',\n",
       " 'death_rate_CLRD': 'double',\n",
       " 'death_rate_Diabetes': 'double'}"
      ]
     },
     "execution_count": 7,
     "metadata": {},
     "output_type": "execute_result"
    }
   ],
   "source": [
    "config_params = {}\n",
    "for col, value in zip(cols, sample):\n",
    "    config_params[col] = \"double\" if isinstance(value, numbers.Number) else \"string\"\n",
    "config_params"
   ]
  },
  {
   "cell_type": "code",
   "execution_count": 8,
   "id": "d497e67d-c1c2-4d10-bb6f-26f87c1db5da",
   "metadata": {},
   "outputs": [
    {
     "data": {
      "text/plain": [
       "{'city': 'Ada',\n",
       " 'country': 'United States',\n",
       " 'description': 'Ada witch - Sometimes you can see a misty blue figure floating within a 3-mile radius of the Ada Cemetery on 2 Mile between Egypt Valley and Honey Creek. The story of her origin is as follows: A man suspected his wife of having an affair, so he followed her late one night when she thought he was asleep. Sure enough, she went to a field near their property where she met her lover. The husband was enraged and killed his wife, which resulted in a struggle with the other man. Both men died from their injuries. It is said that late at night (especially during the night of and the nights preceding a full moon) people driving by the field can see her ghost, searching for her lover. Some people have reported stopping to try to communicate with her, but she always disappears or runs into the woods where she cannot be followed (due to the thick brambles that inhabit the area). She is said to dress in a long white gown which authorities say dates her to the turn of the 20th century. Usually she is seen alone, but sometimes witnesses report seeing a ghostly death scene re-enacted... Others report seeing nothing at all but hearing the killer\\'s shouts of rage followed by the victims\\' screams of agony... Although it is said she haunts the field on Honeycreek Road where she died, other witnesses have reported her in nearby Seidman Park, and in nearby Findlay Cemetery, where she is supposedly buried. This story was actually featured in the book \"Ghosts of Grand Rapids.\"',\n",
       " 'location': 'Ada Cemetery',\n",
       " 'state': 'Michigan',\n",
       " 'state_abbrev': 'MI',\n",
       " 'longitude': -85.50489309999999,\n",
       " 'latitude': 42.9621061,\n",
       " 'city_longitude': -85.4954803,\n",
       " 'city_latitude': 42.960727,\n",
       " 'clean_description': 'Ada witch Sometimes you can see a misty blue figure floating within a radius of the Ada Cemetery on 2 Mile between Egypt Valley and Honey Creek The story of her origin is as follows A man suspected his wife of having an affair so he followed her late one night when she thought he was asleep Sure enough she went to a field near their property where she met her lover The husband was enraged and killed his wife which resulted in a struggle with the other man Both men died from their injuries It is said that late at night especially during the night of and the nights preceding a full moon people driving by the field can see her ghost searching for her lover Some people have reported stopping to try to communicate with her but she always disappears or runs into the woods where she can not be followed due to the thick brambles that inhabit the area She is said to dress in a long white gown which authorities say dates her to the turn of the 20th century Usually she is seen alone but sometimes witnesses report seeing a ghostly death scene Others report seeing nothing at all but hearing the killer shouts of rage followed by the victims screams of agony Although it is said she haunts the field on Honeycreek Road where she died other witnesses have reported her in nearby Seidman Park and in nearby Findlay Cemetery where she is supposedly buried This story was actually featured in the book Ghosts of Grand Rapids',\n",
       " 'clean_spelling': 'Ada witch Sometimes you can see a misty blue figure floating within a radius of the Ada Cemetery on 2 Mile between Egypt Valley and Honey Creek The story of her origin is as follows A man suspected his wife of having an affair so he followed her late one night when she thought he was asleep Sure enough she went to a field near their property where she met her lover The husband was enraged and killed his wife which resulted in a struggle with the other man Both men died from their injuries It is said that late at night especially during the night of and the nights preceding a full moon people driving by the field can see her ghost searching for her lover Some people have reported stopping to try to communicate with her but she always disappears or runs into the woods where she can not be followed due to the thick brambles that inhabit the area She is said to dress in a long white gown which authorities say dates her to the turn of the 20th century Usually she is seen alone but sometimes witnesses report seeing a ghostly death scene Others report seeing nothing at all but hearing the killer shouts of rage followed by the victims screams of agony Although it is said she haunts the field on Honeycreek Road where she died other witnesses have reported her in nearby Seidman Park and in nearby Findlay Cemetery where she is supposedly buried This story was actually featured in the book Ghosts of Grand Rapids',\n",
       " 'tokenized': \"['Ada', 'witch', 'Sometimes', 'you', 'can', 'see', 'a', 'misty', 'blue', 'figure', 'floating', 'within', 'a', 'radius', 'of', 'the', 'Ada', 'Cemetery', 'on', 'Mile', 'between', 'Egypt', 'Valley', 'and', 'Honey', 'Creek', 'The', 'story', 'of', 'her', 'origin', 'is', 'as', 'follows', 'A', 'man', 'suspected', 'his', 'wife', 'of', 'having', 'an', 'affair', 'so', 'he', 'followed', 'her', 'late', 'one', 'night', 'when', 'she', 'thought', 'he', 'was', 'asleep', 'Sure', 'enough', 'she', 'went', 'to', 'a', 'field', 'near', 'their', 'property', 'where', 'she', 'met', 'her', 'lover', 'The', 'husband', 'was', 'enraged', 'and', 'killed', 'his', 'wife', 'which', 'resulted', 'in', 'a', 'struggle', 'with', 'the', 'other', 'man', 'Both', 'men', 'died', 'from', 'their', 'injuries', 'It', 'is', 'said', 'that', 'late', 'at', 'night', 'especially', 'during', 'the', 'night', 'of', 'and', 'the', 'nights', 'preceding', 'a', 'full', 'moon', 'people', 'driving', 'by', 'the', 'field', 'can', 'see', 'her', 'ghost', 'searching', 'for', 'her', 'lover', 'Some', 'people', 'have', 'reported', 'stopping', 'to', 'try', 'to', 'communicate', 'with', 'her', 'but', 'she', 'always', 'disappears', 'or', 'runs', 'into', 'the', 'woods', 'where', 'she', 'can', 'not', 'be', 'followed', 'due', 'to', 'the', 'thick', 'brambles', 'that', 'inhabit', 'the', 'area', 'She', 'is', 'said', 'to', 'dress', 'in', 'a', 'long', 'white', 'gown', 'which', 'authorities', 'say', 'dates', 'her', 'to', 'the', 'turn', 'of', 'the', 'century', 'Usually', 'she', 'is', 'seen', 'alone', 'but', 'sometimes', 'witnesses', 'report', 'seeing', 'a', 'ghostly', 'death', 'scene', 'Others', 'report', 'seeing', 'nothing', 'at', 'all', 'but', 'hearing', 'the', 'killer', 'shouts', 'of', 'rage', 'followed', 'by', 'the', 'victims', 'screams', 'of', 'agony', 'Although', 'it', 'is', 'said', 'she', 'haunts', 'the', 'field', 'on', 'Honeycreek', 'Road', 'where', 'she', 'died', 'other', 'witnesses', 'have', 'reported', 'her', 'in', 'nearby', 'Seidman', 'Park', 'and', 'in', 'nearby', 'Findlay', 'Cemetery', 'where', 'she', 'is', 'supposedly', 'buried', 'This', 'story', 'was', 'actually', 'featured', 'in', 'the', 'book', 'Ghosts', 'of', 'Grand', 'Rapids']\",\n",
       " 'pos_tokenized': \"[('Ada', 'NNP'), ('witch', 'NN'), ('Sometimes', 'RB'), ('you', 'PRP'), ('can', 'MD'), ('see', 'VB'), ('a', 'DT'), ('misty', 'JJ'), ('blue', 'JJ'), ('figure', 'NN'), ('floating', 'VBG'), ('within', 'IN'), ('a', 'DT'), ('radius', 'NN'), ('of', 'IN'), ('the', 'DT'), ('Ada', 'NNP'), ('Cemetery', 'NNP'), ('on', 'IN'), ('Mile', 'NNP'), ('between', 'IN'), ('Egypt', 'NNP'), ('Valley', 'NNP'), ('and', 'CC'), ('Honey', 'NNP'), ('Creek', 'NNP'), ('The', 'DT'), ('story', 'NN'), ('of', 'IN'), ('her', 'PRP$'), ('origin', 'NN'), ('is', 'VBZ'), ('as', 'IN'), ('follows', 'VBZ'), ('A', 'NNP'), ('man', 'NN'), ('suspected', 'VBD'), ('his', 'PRP$'), ('wife', 'NN'), ('of', 'IN'), ('having', 'VBG'), ('an', 'DT'), ('affair', 'NN'), ('so', 'RB'), ('he', 'PRP'), ('followed', 'VBD'), ('her', 'PRP'), ('late', 'JJ'), ('one', 'NN'), ('night', 'NN'), ('when', 'WRB'), ('she', 'PRP'), ('thought', 'VBD'), ('he', 'PRP'), ('was', 'VBD'), ('asleep', 'JJ'), ('Sure', 'NNP'), ('enough', 'IN'), ('she', 'PRP'), ('went', 'VBD'), ('to', 'TO'), ('a', 'DT'), ('field', 'NN'), ('near', 'IN'), ('their', 'PRP$'), ('property', 'NN'), ('where', 'WRB'), ('she', 'PRP'), ('met', 'VBD'), ('her', 'PRP'), ('lover', 'VB'), ('The', 'DT'), ('husband', 'NN'), ('was', 'VBD'), ('enraged', 'VBN'), ('and', 'CC'), ('killed', 'VBN'), ('his', 'PRP$'), ('wife', 'NN'), ('which', 'WDT'), ('resulted', 'VBD'), ('in', 'IN'), ('a', 'DT'), ('struggle', 'NN'), ('with', 'IN'), ('the', 'DT'), ('other', 'JJ'), ('man', 'NN'), ('Both', 'DT'), ('men', 'NNS'), ('died', 'VBD'), ('from', 'IN'), ('their', 'PRP$'), ('injuries', 'NNS'), ('It', 'PRP'), ('is', 'VBZ'), ('said', 'VBD'), ('that', 'IN'), ('late', 'JJ'), ('at', 'IN'), ('night', 'NN'), ('especially', 'RB'), ('during', 'IN'), ('the', 'DT'), ('night', 'NN'), ('of', 'IN'), ('and', 'CC'), ('the', 'DT'), ('nights', 'NNS'), ('preceding', 'VBG'), ('a', 'DT'), ('full', 'JJ'), ('moon', 'NN'), ('people', 'NNS'), ('driving', 'VBG'), ('by', 'IN'), ('the', 'DT'), ('field', 'NN'), ('can', 'MD'), ('see', 'VB'), ('her', 'PRP$'), ('ghost', 'NN'), ('searching', 'NN'), ('for', 'IN'), ('her', 'PRP$'), ('lover', 'JJ'), ('Some', 'DT'), ('people', 'NNS'), ('have', 'VBP'), ('reported', 'VBN'), ('stopping', 'NN'), ('to', 'TO'), ('try', 'VB'), ('to', 'TO'), ('communicate', 'VB'), ('with', 'IN'), ('her', 'PRP$'), ('but', 'CC'), ('she', 'PRP'), ('always', 'RB'), ('disappears', 'VBZ'), ('or', 'CC'), ('runs', 'VBZ'), ('into', 'IN'), ('the', 'DT'), ('woods', 'NNS'), ('where', 'WRB'), ('she', 'PRP'), ('can', 'MD'), ('not', 'RB'), ('be', 'VB'), ('followed', 'VBN'), ('due', 'JJ'), ('to', 'TO'), ('the', 'DT'), ('thick', 'NN'), ('brambles', 'VBZ'), ('that', 'IN'), ('inhabit', 'NN'), ('the', 'DT'), ('area', 'NN'), ('She', 'PRP'), ('is', 'VBZ'), ('said', 'VBD'), ('to', 'TO'), ('dress', 'VB'), ('in', 'IN'), ('a', 'DT'), ('long', 'JJ'), ('white', 'JJ'), ('gown', 'NN'), ('which', 'WDT'), ('authorities', 'NNS'), ('say', 'VBP'), ('dates', 'VBZ'), ('her', 'PRP'), ('to', 'TO'), ('the', 'DT'), ('turn', 'NN'), ('of', 'IN'), ('the', 'DT'), ('century', 'NN'), ('Usually', 'NNP'), ('she', 'PRP'), ('is', 'VBZ'), ('seen', 'VBN'), ('alone', 'RB'), ('but', 'CC'), ('sometimes', 'RB'), ('witnesses', 'NNS'), ('report', 'VBP'), ('seeing', 'VBG'), ('a', 'DT'), ('ghostly', 'RB'), ('death', 'NN'), ('scene', 'NN'), ('Others', 'NNP'), ('report', 'NN'), ('seeing', 'VBG'), ('nothing', 'NN'), ('at', 'IN'), ('all', 'DT'), ('but', 'CC'), ('hearing', 'VBG'), ('the', 'DT'), ('killer', 'NN'), ('shouts', 'VBZ'), ('of', 'IN'), ('rage', 'NN'), ('followed', 'VBN'), ('by', 'IN'), ('the', 'DT'), ('victims', 'NNS'), ('screams', 'NNS'), ('of', 'IN'), ('agony', 'NN'), ('Although', 'IN'), ('it', 'PRP'), ('is', 'VBZ'), ('said', 'VBD'), ('she', 'PRP'), ('haunts', 'VBZ'), ('the', 'DT'), ('field', 'NN'), ('on', 'IN'), ('Honeycreek', 'NNP'), ('Road', 'NNP'), ('where', 'WRB'), ('she', 'PRP'), ('died', 'VBD'), ('other', 'JJ'), ('witnesses', 'NNS'), ('have', 'VBP'), ('reported', 'VBN'), ('her', 'PRP$'), ('in', 'IN'), ('nearby', 'JJ'), ('Seidman', 'NNP'), ('Park', 'NNP'), ('and', 'CC'), ('in', 'IN'), ('nearby', 'JJ'), ('Findlay', 'NNP'), ('Cemetery', 'NNP'), ('where', 'WRB'), ('she', 'PRP'), ('is', 'VBZ'), ('supposedly', 'RB'), ('buried', 'VBN'), ('This', 'DT'), ('story', 'NN'), ('was', 'VBD'), ('actually', 'RB'), ('featured', 'VBN'), ('in', 'IN'), ('the', 'DT'), ('book', 'NN'), ('Ghosts', 'NNP'), ('of', 'IN'), ('Grand', 'NNP'), ('Rapids', 'NNP')]\",\n",
       " 'filtered_tokenized': \"['witch', 'sometimes', 'you', 'can', 'see', 'a', 'misty', 'blue', 'figure', 'floating', 'within', 'a', 'radius', 'of', 'the', 'on', 'between', 'and', 'the', 'story', 'of', 'her', 'origin', 'is', 'as', 'follows', 'man', 'suspected', 'his', 'wife', 'of', 'having', 'an', 'affair', 'so', 'he', 'followed', 'her', 'late', 'one', 'night', 'when', 'she', 'thought', 'he', 'was', 'asleep', 'enough', 'she', 'went', 'to', 'a', 'field', 'near', 'their', 'property', 'where', 'she', 'met', 'her', 'lover', 'the', 'husband', 'was', 'enraged', 'and', 'killed', 'his', 'wife', 'which', 'resulted', 'in', 'a', 'struggle', 'with', 'the', 'other', 'man', 'both', 'men', 'died', 'from', 'their', 'injuries', 'it', 'is', 'said', 'that', 'late', 'at', 'night', 'especially', 'during', 'the', 'night', 'of', 'and', 'the', 'nights', 'preceding', 'a', 'full', 'moon', 'people', 'driving', 'by', 'the', 'field', 'can', 'see', 'her', 'ghost', 'searching', 'for', 'her', 'lover', 'some', 'people', 'have', 'reported', 'stopping', 'to', 'try', 'to', 'communicate', 'with', 'her', 'but', 'she', 'always', 'disappears', 'or', 'runs', 'into', 'the', 'woods', 'where', 'she', 'can', 'not', 'be', 'followed', 'due', 'to', 'the', 'thick', 'brambles', 'that', 'inhabit', 'the', 'area', 'she', 'is', 'said', 'to', 'dress', 'in', 'a', 'long', 'white', 'gown', 'which', 'authorities', 'say', 'dates', 'her', 'to', 'the', 'turn', 'of', 'the', 'century', 'she', 'is', 'seen', 'alone', 'but', 'sometimes', 'witnesses', 'report', 'seeing', 'a', 'ghostly', 'death', 'scene', 'report', 'seeing', 'nothing', 'at', 'all', 'but', 'hearing', 'the', 'killer', 'shouts', 'of', 'rage', 'followed', 'by', 'the', 'victims', 'screams', 'of', 'agony', 'although', 'it', 'is', 'said', 'she', 'haunts', 'the', 'field', 'on', 'where', 'she', 'died', 'other', 'witnesses', 'have', 'reported', 'her', 'in', 'nearby', 'and', 'in', 'nearby', 'where', 'she', 'is', 'supposedly', 'buried', 'this', 'story', 'was', 'actually', 'featured', 'in', 'the', 'book', 'of']\",\n",
       " 'lemma_filtered_tokenized': \"['witch', 'sometimes', 'you', 'can', 'see', 'a', 'misty', 'blue', 'figure', 'floating', 'within', 'a', 'radius', 'of', 'the', 'on', 'between', 'and', 'the', 'story', 'of', 'her', 'origin', 'is', 'a', 'follows', 'man', 'suspected', 'his', 'wife', 'of', 'having', 'an', 'affair', 'so', 'he', 'followed', 'her', 'late', 'one', 'night', 'when', 'she', 'thought', 'he', 'wa', 'asleep', 'enough', 'she', 'went', 'to', 'a', 'field', 'near', 'their', 'property', 'where', 'she', 'met', 'her', 'lover', 'the', 'husband', 'wa', 'enraged', 'and', 'killed', 'his', 'wife', 'which', 'resulted', 'in', 'a', 'struggle', 'with', 'the', 'other', 'man', 'both', 'men', 'died', 'from', 'their', 'injury', 'it', 'is', 'said', 'that', 'late', 'at', 'night', 'especially', 'during', 'the', 'night', 'of', 'and', 'the', 'night', 'preceding', 'a', 'full', 'moon', 'people', 'driving', 'by', 'the', 'field', 'can', 'see', 'her', 'ghost', 'searching', 'for', 'her', 'lover', 'some', 'people', 'have', 'reported', 'stopping', 'to', 'try', 'to', 'communicate', 'with', 'her', 'but', 'she', 'always', 'disappears', 'or', 'run', 'into', 'the', 'wood', 'where', 'she', 'can', 'not', 'be', 'followed', 'due', 'to', 'the', 'thick', 'bramble', 'that', 'inhabit', 'the', 'area', 'she', 'is', 'said', 'to', 'dress', 'in', 'a', 'long', 'white', 'gown', 'which', 'authority', 'say', 'date', 'her', 'to', 'the', 'turn', 'of', 'the', 'century', 'she', 'is', 'seen', 'alone', 'but', 'sometimes', 'witness', 'report', 'seeing', 'a', 'ghostly', 'death', 'scene', 'report', 'seeing', 'nothing', 'at', 'all', 'but', 'hearing', 'the', 'killer', 'shout', 'of', 'rage', 'followed', 'by', 'the', 'victim', 'scream', 'of', 'agony', 'although', 'it', 'is', 'said', 'she', 'haunt', 'the', 'field', 'on', 'where', 'she', 'died', 'other', 'witness', 'have', 'reported', 'her', 'in', 'nearby', 'and', 'in', 'nearby', 'where', 'she', 'is', 'supposedly', 'buried', 'this', 'story', 'wa', 'actually', 'featured', 'in', 'the', 'book', 'of']\",\n",
       " 'lemma_pos_tokenized': \"['ada', 'witch', 'sometimes', 'you', 'can', 'see', 'a', 'misty', 'blue', 'figure', 'float', 'within', 'a', 'radius', 'of', 'the', 'ada', 'cemetery', 'on', 'mile', 'between', 'egypt', 'valley', 'and', 'honey', 'creek', 'the', 'story', 'of', 'her', 'origin', 'be', 'a', 'follow', 'a', 'man', 'suspect', 'his', 'wife', 'of', 'have', 'an', 'affair', 'so', 'he', 'follow', 'her', 'late', 'one', 'night', 'when', 'she', 'think', 'he', 'be', 'asleep', 'sure', 'enough', 'she', 'go', 'to', 'a', 'field', 'near', 'their', 'property', 'where', 'she', 'meet', 'her', 'lover', 'the', 'husband', 'be', 'enrage', 'and', 'kill', 'his', 'wife', 'which', 'result', 'in', 'a', 'struggle', 'with', 'the', 'other', 'man', 'both', 'men', 'die', 'from', 'their', 'injury', 'it', 'be', 'say', 'that', 'late', 'at', 'night', 'especially', 'during', 'the', 'night', 'of', 'and', 'the', 'night', 'precede', 'a', 'full', 'moon', 'people', 'drive', 'by', 'the', 'field', 'can', 'see', 'her', 'ghost', 'searching', 'for', 'her', 'lover', 'some', 'people', 'have', 'report', 'stopping', 'to', 'try', 'to', 'communicate', 'with', 'her', 'but', 'she', 'always', 'disappear', 'or', 'run', 'into', 'the', 'wood', 'where', 'she', 'can', 'not', 'be', 'follow', 'due', 'to', 'the', 'thick', 'brambles', 'that', 'inhabit', 'the', 'area', 'she', 'be', 'say', 'to', 'dress', 'in', 'a', 'long', 'white', 'gown', 'which', 'authority', 'say', 'date', 'her', 'to', 'the', 'turn', 'of', 'the', 'century', 'usually', 'she', 'be', 'see', 'alone', 'but', 'sometimes', 'witness', 'report', 'see', 'a', 'ghostly', 'death', 'scene', 'others', 'report', 'see', 'nothing', 'at', 'all', 'but', 'hear', 'the', 'killer', 'shout', 'of', 'rage', 'follow', 'by', 'the', 'victim', 'scream', 'of', 'agony', 'although', 'it', 'be', 'say', 'she', 'haunt', 'the', 'field', 'on', 'honeycreek', 'road', 'where', 'she', 'die', 'other', 'witness', 'have', 'report', 'her', 'in', 'nearby', 'seidman', 'park', 'and', 'in', 'nearby', 'findlay', 'cemetery', 'where', 'she', 'be', 'supposedly', 'bury', 'this', 'story', 'be', 'actually', 'feature', 'in', 'the', 'book', 'ghost', 'of', 'grand', 'rapid']\",\n",
       " 'Event': 'Murder',\n",
       " 'apparition_types': \"['ghost', 'figure', 'witch']\",\n",
       " 'apparition_descriptors': \"['ghostly', 'misty']\",\n",
       " 'apparition_gender': \"['man', 'men', 'husband', 'wife']\",\n",
       " 'apparition_age': \"['Unknown']\",\n",
       " 'apparition_types_str': 'ghost figure witch',\n",
       " 'apparition_descriptors_str': 'ghostly misty',\n",
       " 'apparition_gender_str': 'man men husband wife',\n",
       " 'apparition_age_str': 'Unknown',\n",
       " 'unique_apparition_mentions': 3,\n",
       " 'adjectives': \"[('misty', 'figure'), ('blue', 'figure')]\",\n",
       " 'unique_app_descriptor_mentions': 2,\n",
       " \"death_rate_Alzheimer's disease\": 23.99473684210526,\n",
       " 'death_rate_Cancer': 184.52105263157893,\n",
       " 'death_rate_Heart disease': 228.53157894736844,\n",
       " 'death_rate_Unintentional injuries': 37.63157894736842,\n",
       " 'death_rate_All causes': 821.4,\n",
       " 'death_rate_Influenza and pneumonia': 17.089473684210525,\n",
       " 'death_rate_Suicide': 11.773684210526316,\n",
       " 'death_rate_Kidney disease': 15.13684210526316,\n",
       " 'death_rate_CLRD': 44.742105263157896,\n",
       " 'death_rate_Diabetes': 25.23684210526316}"
      ]
     },
     "execution_count": 8,
     "metadata": {},
     "output_type": "execute_result"
    }
   ],
   "source": [
    "features = dict(sample)\n",
    "features"
   ]
  },
  {
   "cell_type": "code",
   "execution_count": 9,
   "id": "1345103f-a8e1-4db4-8c88-8a63b5877fe2",
   "metadata": {},
   "outputs": [],
   "source": [
    "v = Vector(filename=filename, features=features, config_params=config_params)"
   ]
  },
  {
   "cell_type": "code",
   "execution_count": 10,
   "id": "286f0ebd-8c2f-4ecf-9374-d91b13d9f5cc",
   "metadata": {},
   "outputs": [
    {
     "data": {
      "text/plain": [
       "3.1096170691369447e+19"
      ]
     },
     "execution_count": 10,
     "metadata": {},
     "output_type": "execute_result"
    }
   ],
   "source": [
    "v.getMagnitude()"
   ]
  }
 ],
 "metadata": {
  "kernelspec": {
   "display_name": "Python 3 (ipykernel)",
   "language": "python",
   "name": "python3"
  },
  "language_info": {
   "codemirror_mode": {
    "name": "ipython",
    "version": 3
   },
   "file_extension": ".py",
   "mimetype": "text/x-python",
   "name": "python",
   "nbconvert_exporter": "python",
   "pygments_lexer": "ipython3",
   "version": "3.9.21"
  }
 },
 "nbformat": 4,
 "nbformat_minor": 5
}
