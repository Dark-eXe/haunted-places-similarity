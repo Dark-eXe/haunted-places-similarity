{
 "cells": [
  {
   "cell_type": "markdown",
   "id": "26b21e3e-7544-4221-a71b-76d497e76aa9",
   "metadata": {},
   "source": [
    "# Cosine Similarity"
   ]
  },
  {
   "cell_type": "code",
   "execution_count": 19,
   "id": "1353339b-2e1e-457f-9224-566190553448",
   "metadata": {},
   "outputs": [],
   "source": [
    "import os\n",
    "import sys\n",
    "module_path = os.path.abspath(os.path.join('..'))\n",
    "if module_path not in sys.path:\n",
    "    sys.path.append(module_path)\n",
    "\n",
    "from tikasimilarity.distance import cosine_similarity\n",
    "import tikasimilarity.distance.vector as v"
   ]
  },
  {
   "cell_type": "code",
   "execution_count": 3,
   "id": "7d8a0085-4002-44e3-bf7b-ee171c7b0b0b",
   "metadata": {},
   "outputs": [
    {
     "name": "stdout",
     "output_type": "stream",
     "text": [
      "Help on module tikasimilarity.distance.cosine_similarity in tikasimilarity.distance:\n",
      "\n",
      "NAME\n",
      "    tikasimilarity.distance.cosine_similarity\n",
      "\n",
      "DESCRIPTION\n",
      "    # Licensed to the Apache Software Foundation (ASF) under one or more\n",
      "    # contributor license agreements.  See the NOTICE file distributed with\n",
      "    # this work for additional information regarding copyright ownership.\n",
      "    # The ASF licenses this file to You under the Apache License, Version 2.0\n",
      "    # (the \"License\"); you may not use this file except in compliance with\n",
      "    # the License.  You may obtain a copy of the License at\n",
      "    #\n",
      "    #    http://www.apache.org/licenses/LICENSE-2.0\n",
      "    #\n",
      "    # Unless required by applicable law or agreed to in writing, software\n",
      "    # distributed under the License is distributed on an \"AS IS\" BASIS,\n",
      "    # WITHOUT WARRANTIES OR CONDITIONS OF ANY KIND, either express or implied.\n",
      "    # See the License for the specific language governing permissions and\n",
      "    # limitations under the License.\n",
      "    #\n",
      "    #\n",
      "\n",
      "FUNCTIONS\n",
      "    computeScores(inputDir, outCSV, acceptTypes)\n",
      "    \n",
      "    computeScores2(inputFile, outCSV)\n",
      "    \n",
      "    filterFiles(inputDir, acceptTypes)\n",
      "    \n",
      "    sleep(...)\n",
      "        sleep(seconds)\n",
      "        \n",
      "        Delay execution for a given number of seconds.  The argument may be\n",
      "        a floating point number for subsecond precision.\n",
      "\n",
      "FILE\n",
      "    /Users/andrewturangan/Local/DSCI 550/HW1/haunted-places-similarity/tikasimilarity/distance/cosine_similarity.py\n",
      "\n",
      "\n"
     ]
    }
   ],
   "source": [
    "help(cosine_similarity)"
   ]
  },
  {
   "cell_type": "markdown",
   "id": "fc0b3ea9-f273-47d9-b2e9-ae71e704dddb",
   "metadata": {},
   "source": [
    "## Attempt"
   ]
  },
  {
   "cell_type": "code",
   "execution_count": 14,
   "id": "bf34e3c5-f4c0-4dfa-bb43-fab74deffd06",
   "metadata": {},
   "outputs": [
    {
     "data": {
      "text/plain": [
       "True"
      ]
     },
     "execution_count": 14,
     "metadata": {},
     "output_type": "execute_result"
    }
   ],
   "source": [
    "inputFile = os.path.join('..', 'data', 'my_df.csv')\n",
    "os.path.exists(inputFile)"
   ]
  },
  {
   "cell_type": "code",
   "execution_count": 15,
   "id": "af360f3c-fb78-4139-81e9-1b650a2b23a9",
   "metadata": {},
   "outputs": [],
   "source": [
    "outCSV = os.path.join('..', 'results', 'cosine_results.csv')"
   ]
  },
  {
   "cell_type": "code",
   "execution_count": 20,
   "id": "61d0053c-ea62-47dd-8a83-cc132ab1cd1c",
   "metadata": {},
   "outputs": [
    {
     "ename": "TypeError",
     "evalue": "pop expected at most 1 argument, got 2",
     "output_type": "error",
     "traceback": [
      "\u001b[0;31m---------------------------------------------------------------------------\u001b[0m",
      "\u001b[0;31mTypeError\u001b[0m                                 Traceback (most recent call last)",
      "Cell \u001b[0;32mIn[20], line 1\u001b[0m\n\u001b[0;32m----> 1\u001b[0m myVector \u001b[38;5;241m=\u001b[39m \u001b[43mv\u001b[49m\u001b[38;5;241;43m.\u001b[39;49m\u001b[43mVector\u001b[49m\u001b[43m(\u001b[49m\u001b[43mfilename\u001b[49m\u001b[38;5;241;43m=\u001b[39;49m\u001b[43minputFile\u001b[49m\u001b[43m,\u001b[49m\u001b[43m \u001b[49m\u001b[43mfeatures\u001b[49m\u001b[38;5;241;43m=\u001b[39;49m\u001b[43m[\u001b[49m\u001b[38;5;124;43m'\u001b[39;49m\u001b[38;5;124;43mdescription\u001b[39;49m\u001b[38;5;124;43m'\u001b[39;49m\u001b[43m]\u001b[49m\u001b[43m)\u001b[49m\n",
      "File \u001b[0;32m~/Local/DSCI 550/HW1/haunted-places-similarity/tikasimilarity/distance/vector.py:63\u001b[0m, in \u001b[0;36mVector.__init__\u001b[0;34m(self, filename, features, config_params)\u001b[0m\n\u001b[1;32m     60\u001b[0m na_metadata \u001b[38;5;241m=\u001b[39m [\u001b[38;5;124m\"\u001b[39m\u001b[38;5;124mresourceName\u001b[39m\u001b[38;5;124m\"\u001b[39m]\n\u001b[1;32m     62\u001b[0m \u001b[38;5;28;01mfor\u001b[39;00m na \u001b[38;5;129;01min\u001b[39;00m na_metadata:\n\u001b[0;32m---> 63\u001b[0m     \u001b[43mfeatures\u001b[49m\u001b[38;5;241;43m.\u001b[39;49m\u001b[43mpop\u001b[49m\u001b[43m(\u001b[49m\u001b[43mna\u001b[49m\u001b[43m,\u001b[49m\u001b[43m \u001b[49m\u001b[38;5;28;43;01mNone\u001b[39;49;00m\u001b[43m)\u001b[49m\n\u001b[1;32m     65\u001b[0m \u001b[38;5;28;01mfor\u001b[39;00m key \u001b[38;5;129;01min\u001b[39;00m features:\n\u001b[1;32m     66\u001b[0m     \u001b[38;5;28mself\u001b[39m\u001b[38;5;241m.\u001b[39mfeatures[key] \u001b[38;5;241m=\u001b[39m \u001b[38;5;28mlen\u001b[39m(stringify(features[key]))\n",
      "\u001b[0;31mTypeError\u001b[0m: pop expected at most 1 argument, got 2"
     ]
    }
   ],
   "source": [
    "myVector = v.Vector(filename=inputFile, features=['description'])"
   ]
  },
  {
   "cell_type": "code",
   "execution_count": 17,
   "id": "29545ad2-d8e2-4cf9-93d8-13542f9c83b6",
   "metadata": {},
   "outputs": [
    {
     "name": "stdout",
     "output_type": "stream",
     "text": [
      "Help on class Vector in module tikasimilarity.distance.vector:\n",
      "\n",
      "class Vector(builtins.object)\n",
      " |  Vector(filename=None, features=None, config_params=None)\n",
      " |  \n",
      " |  An instance of this class represents a vector in n-dimensional space\n",
      " |  \n",
      " |  Methods defined here:\n",
      " |  \n",
      " |  __init__(self, filename=None, features=None, config_params=None)\n",
      " |      Create a vector\n",
      " |      @param metadata features\n",
      " |  \n",
      " |  cosTheta(self, v2)\n",
      " |      cosTheta = (V1.V2) / (|V1| |V2|)\n",
      " |      cos 0 = 1 implies identical documents\n",
      " |  \n",
      " |  dotProduct(self, anotherVector)\n",
      " |      A = ax+by+cz\n",
      " |      B = mx+ny+oz\n",
      " |      A.B = a*m + b*n + c*o\n",
      " |  \n",
      " |  euclidean_dist(self, anotherVector)\n",
      " |      dist = ((x1-x2)^2 + (y1-y2)^2 + (z1-z2)^2)^(0.5)\n",
      " |  \n",
      " |  getMagnitude(self)\n",
      " |  \n",
      " |  ----------------------------------------------------------------------\n",
      " |  Data descriptors defined here:\n",
      " |  \n",
      " |  __dict__\n",
      " |      dictionary for instance variables (if defined)\n",
      " |  \n",
      " |  __weakref__\n",
      " |      list of weak references to the object (if defined)\n",
      "\n"
     ]
    }
   ],
   "source": [
    "help(Vector)"
   ]
  }
 ],
 "metadata": {
  "kernelspec": {
   "display_name": "Python 3 (ipykernel)",
   "language": "python",
   "name": "python3"
  },
  "language_info": {
   "codemirror_mode": {
    "name": "ipython",
    "version": 3
   },
   "file_extension": ".py",
   "mimetype": "text/x-python",
   "name": "python",
   "nbconvert_exporter": "python",
   "pygments_lexer": "ipython3",
   "version": "3.9.21"
  }
 },
 "nbformat": 4,
 "nbformat_minor": 5
}
