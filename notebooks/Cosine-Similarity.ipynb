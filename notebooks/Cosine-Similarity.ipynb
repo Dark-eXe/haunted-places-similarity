{
 "cells": [
  {
   "cell_type": "markdown",
   "id": "26b21e3e-7544-4221-a71b-76d497e76aa9",
   "metadata": {},
   "source": [
    "# Cosine Similarity"
   ]
  },
  {
   "cell_type": "code",
   "execution_count": 9,
   "id": "1353339b-2e1e-457f-9224-566190553448",
   "metadata": {},
   "outputs": [],
   "source": [
    "import os\n",
    "import sys\n",
    "module_path = os.path.abspath(os.path.join('..'))\n",
    "if module_path not in sys.path:\n",
    "    sys.path.append(module_path)\n",
    "\n",
    "from tikasimilarity.distance.cosine_similarity import computeScores"
   ]
  },
  {
   "cell_type": "markdown",
   "id": "fc0b3ea9-f273-47d9-b2e9-ae71e704dddb",
   "metadata": {},
   "source": [
    "## Attempt"
   ]
  },
  {
   "cell_type": "code",
   "execution_count": 10,
   "id": "bf34e3c5-f4c0-4dfa-bb43-fab74deffd06",
   "metadata": {},
   "outputs": [
    {
     "data": {
      "text/plain": [
       "True"
      ]
     },
     "execution_count": 10,
     "metadata": {},
     "output_type": "execute_result"
    }
   ],
   "source": [
    "inputFile = os.path.join('..', 'data')\n",
    "os.path.exists(inputFile)"
   ]
  },
  {
   "cell_type": "code",
   "execution_count": 11,
   "id": "af360f3c-fb78-4139-81e9-1b650a2b23a9",
   "metadata": {},
   "outputs": [],
   "source": [
    "outCSV = os.path.join('..', 'results', 'cosine_results.csv')"
   ]
  },
  {
   "cell_type": "code",
   "execution_count": 12,
   "id": "61d0053c-ea62-47dd-8a83-cc132ab1cd1c",
   "metadata": {},
   "outputs": [
    {
     "name": "stdout",
     "output_type": "stream",
     "text": [
      "Accepting all MIME Types.....\n"
     ]
    }
   ],
   "source": [
    "computeScores(inputDir=inputFile, outCSV=outCSV, acceptTypes=None)"
   ]
  }
 ],
 "metadata": {
  "kernelspec": {
   "display_name": "Python 3 (ipykernel)",
   "language": "python",
   "name": "python3"
  },
  "language_info": {
   "codemirror_mode": {
    "name": "ipython",
    "version": 3
   },
   "file_extension": ".py",
   "mimetype": "text/x-python",
   "name": "python",
   "nbconvert_exporter": "python",
   "pygments_lexer": "ipython3",
   "version": "3.9.21"
  }
 },
 "nbformat": 4,
 "nbformat_minor": 5
}
