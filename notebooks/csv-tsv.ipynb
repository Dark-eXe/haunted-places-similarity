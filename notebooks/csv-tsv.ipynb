{
 "cells": [
  {
   "cell_type": "markdown",
   "id": "832e09ff-b0a0-43ab-a8d8-97c70dd11aca",
   "metadata": {},
   "source": [
    "# CSV to TSV\n",
    "Original TSV file seems to have double rows, will fix."
   ]
  },
  {
   "cell_type": "code",
   "execution_count": 1,
   "id": "d189fab0-a033-4ced-a85c-b302457c44a4",
   "metadata": {},
   "outputs": [],
   "source": [
    "import pandas as pd\n",
    "import os"
   ]
  },
  {
   "cell_type": "code",
   "execution_count": 2,
   "id": "7a45e82c-eb82-4387-ba67-59ff3881ddd9",
   "metadata": {},
   "outputs": [],
   "source": [
    "csv_file_path = os.path.join(\"..\", \"data\", \"my_df.csv\")"
   ]
  },
  {
   "cell_type": "code",
   "execution_count": 3,
   "id": "d1419b71-a76c-4564-ae74-2c6f408500a7",
   "metadata": {},
   "outputs": [],
   "source": [
    "df = pd.read_csv(csv_file_path)"
   ]
  },
  {
   "cell_type": "code",
   "execution_count": 4,
   "id": "3093f9d3-aa6b-41e3-91d6-55df84aa1c73",
   "metadata": {},
   "outputs": [],
   "source": [
    "tsv_file_path = os.path.join('..', 'data', 'my_df.tsv')\n",
    "df.to_csv(tsv_file_path, sep='\\t', index=False)"
   ]
  }
 ],
 "metadata": {
  "kernelspec": {
   "display_name": "Python 3 (ipykernel)",
   "language": "python",
   "name": "python3"
  },
  "language_info": {
   "codemirror_mode": {
    "name": "ipython",
    "version": 3
   },
   "file_extension": ".py",
   "mimetype": "text/x-python",
   "name": "python",
   "nbconvert_exporter": "python",
   "pygments_lexer": "ipython3",
   "version": "3.9.21"
  }
 },
 "nbformat": 4,
 "nbformat_minor": 5
}
