{
 "cells": [
  {
   "cell_type": "markdown",
   "id": "261ee88b-207a-42d4-9a3f-29c5acbad763",
   "metadata": {},
   "source": [
    "# Select Columns for Cluster Analysis\n",
    "Produces data/my_df.csv from data/finalized_df.csv"
   ]
  },
  {
   "cell_type": "code",
   "execution_count": null,
   "id": "6a4115cd-12c6-4967-a93b-c1087686df31",
   "metadata": {},
   "outputs": [],
   "source": []
  }
 ],
 "metadata": {
  "kernelspec": {
   "display_name": "Python 3 (ipykernel)",
   "language": "python",
   "name": "python3"
  },
  "language_info": {
   "codemirror_mode": {
    "name": "ipython",
    "version": 3
   },
   "file_extension": ".py",
   "mimetype": "text/x-python",
   "name": "python",
   "nbconvert_exporter": "python",
   "pygments_lexer": "ipython3",
   "version": "3.9.21"
  }
 },
 "nbformat": 4,
 "nbformat_minor": 5
}
